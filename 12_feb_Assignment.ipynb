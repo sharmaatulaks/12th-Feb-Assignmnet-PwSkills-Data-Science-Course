{
 "cells": [
  {
   "cell_type": "markdown",
   "id": "36df60d9-1724-4360-b58f-87de97e338c4",
   "metadata": {},
   "source": [
    "# <center> 12th Feb Assignmnet"
   ]
  },
  {
   "cell_type": "markdown",
   "id": "84a2ab79-3596-4de5-b9f6-6fbd3647b906",
   "metadata": {},
   "source": [
    "Q1:- What is an Exception in python? Write the difference between Exceptions and Syntax errors."
   ]
  },
  {
   "cell_type": "markdown",
   "id": "34c9913c-2118-4988-9b51-eaf3410f375c",
   "metadata": {},
   "source": [
    "Ans 1:- In Python, an Exception is an error that occurs during the execution of a program that disrupts the normal flow of the program. When an Exception occurs, the program execution is halted and the interpreter prints an error message along with a traceback that shows the exact location of the error in the code.\n",
    "\n",
    "Exceptions can occur due to a variety of reasons such as invalid user input, network issues, file I/O errors, and so on. To handle Exceptions, Python provides a mechanism called Exception Handling, which allows the programmer to catch, handle and recover from Exceptions gracefully, without crashing the program.\n",
    "\n",
    "On the other hand, Syntax errors are errors that occur due to incorrect syntax in the code. These errors are detected by the Python interpreter at the compile-time and prevent the program from being executed. Examples of syntax errors include missing colons, mismatched parentheses, incorrect indentation, and so on.\n",
    "\n",
    "The key differences between Exceptions and Syntax errors are:\n",
    "\n",
    "* Exceptions occur during program execution while Syntax errors occur during compilation of the code.\n",
    "* Exceptions disrupt the normal flow of the program while Syntax errors prevent the program from being executed.\n",
    "* Exceptions can be handled using Exception Handling while Syntax errors need to be fixed by correcting the syntax in the code."
   ]
  },
  {
   "cell_type": "code",
   "execution_count": 2,
   "id": "220b65fb-a82b-46d8-88e2-36d4cd33de36",
   "metadata": {},
   "outputs": [
    {
     "name": "stdout",
     "output_type": "stream",
     "text": [
      "Error:  division by zero\n"
     ]
    }
   ],
   "source": [
    "#Example of an Exception:\n",
    "# Example of a ZeroDivisionError exception\n",
    "\n",
    "a = 10\n",
    "b = 0\n",
    "try:\n",
    "    c = a / b\n",
    "except Exception as e:\n",
    "    print(\"Error: \", e)\n",
    "\n",
    "# Output:\n",
    "# Error:  division by zero\n"
   ]
  },
  {
   "cell_type": "markdown",
   "id": "d7c4d945-0279-45d7-81c2-106ecb58d918",
   "metadata": {},
   "source": [
    "In the above code, a ZeroDivisionError exception is raised when we try to divide a number by zero. We use a try-except block to catch the exception and handle it gracefully."
   ]
  },
  {
   "cell_type": "code",
   "execution_count": 4,
   "id": "a6bdb48a-9ac3-456a-a709-6fd951b91c3d",
   "metadata": {},
   "outputs": [
    {
     "ename": "IndentationError",
     "evalue": "expected an indented block after function definition on line 5 (123878406.py, line 6)",
     "output_type": "error",
     "traceback": [
      "\u001b[0;36m  Cell \u001b[0;32mIn[4], line 6\u001b[0;36m\u001b[0m\n\u001b[0;31m    for i in range(n):\u001b[0m\n\u001b[0m    ^\u001b[0m\n\u001b[0;31mIndentationError\u001b[0m\u001b[0;31m:\u001b[0m expected an indented block after function definition on line 5\n"
     ]
    }
   ],
   "source": [
    "#Example of a Syntax Error:\n",
    "\n",
    "# Example of a SyntaxError due to incorrect indentation\n",
    "\n",
    "def print_numbers(n):\n",
    "for i in range(n):\n",
    "print(i)\n",
    "\n"
   ]
  },
  {
   "cell_type": "markdown",
   "id": "d540faaf-2ac6-4ee2-9cd3-2617285096b7",
   "metadata": {},
   "source": [
    "In the above code, we have a SyntaxError due to incorrect indentation. The function definition is not indented correctly, causing a syntax error. The interpreter detects this error at compile-time and prevents the program from being executed. We need to correct the indentation to fix the error."
   ]
  },
  {
   "cell_type": "markdown",
   "id": "f3f39fab-6a36-47e6-9a70-94bf0eb9c7d1",
   "metadata": {},
   "source": [
    "Q2:-  What happens when an exception is not handled? Explain with an example"
   ]
  },
  {
   "cell_type": "markdown",
   "id": "07b20910-9bc4-4657-8d51-b75abae45c44",
   "metadata": {},
   "source": [
    "Ans 2:-When an exception is not handled in a Python program, it will cause the program to terminate and an error message will be displayed that describes the type of exception that occurred and the line of code where the exception occurred.\n",
    "\n",
    "Here's an example that demonstrates what happens when an exception is not handled:"
   ]
  },
  {
   "cell_type": "code",
   "execution_count": 9,
   "id": "b0a72933-55f5-4e4d-b6e8-740424ba75ed",
   "metadata": {},
   "outputs": [
    {
     "ename": "ZeroDivisionError",
     "evalue": "division by zero",
     "output_type": "error",
     "traceback": [
      "\u001b[0;31m---------------------------------------------------------------------------\u001b[0m",
      "\u001b[0;31mZeroDivisionError\u001b[0m                         Traceback (most recent call last)",
      "Cell \u001b[0;32mIn[9], line 4\u001b[0m\n\u001b[1;32m      2\u001b[0m a \u001b[38;5;241m=\u001b[39m \u001b[38;5;241m10\u001b[39m\n\u001b[1;32m      3\u001b[0m b \u001b[38;5;241m=\u001b[39m \u001b[38;5;241m0\u001b[39m\n\u001b[0;32m----> 4\u001b[0m divison \u001b[38;5;241m=\u001b[39m \u001b[43ma\u001b[49m\u001b[43m \u001b[49m\u001b[38;5;241;43m/\u001b[39;49m\u001b[43m \u001b[49m\u001b[43mb\u001b[49m\n\u001b[1;32m      5\u001b[0m \u001b[38;5;28mprint\u001b[39m(\u001b[38;5;124m\"\u001b[39m\u001b[38;5;124mDivision: \u001b[39m\u001b[38;5;124m\"\u001b[39m,divison)\n",
      "\u001b[0;31mZeroDivisionError\u001b[0m: division by zero"
     ]
    }
   ],
   "source": [
    "# Example of an unhandled exception\n",
    "a = 10\n",
    "b = 0\n",
    "divison = a / b\n",
    "print(\"Division: \",divison)"
   ]
  },
  {
   "cell_type": "markdown",
   "id": "afe8b1ab-8ec5-483d-980c-47d1aa08f7fb",
   "metadata": {},
   "source": [
    " if an exception is not handled in a Python program, it will cause the program to terminate and display an error message that describes the type of exception that occurred and the line of code where the exception occurred. It's important to handle exceptions in your code to prevent unexpected program termination and to provide a graceful way to handle errors."
   ]
  },
  {
   "cell_type": "markdown",
   "id": "3bf3afb2-13b8-4bf4-af5a-84bccfcf42f2",
   "metadata": {},
   "source": [
    "Q3:-  Which Python statements are used to catch and handle exceptions? Explain with an example"
   ]
  },
  {
   "cell_type": "markdown",
   "id": "fd778639-7b21-4708-a184-321f35d23ef7",
   "metadata": {},
   "source": [
    "In Python, the try and except statements are used to catch and handle exceptions. The try statement is used to enclose a block of code that might raise an exception, while the except statement is used to specify how to handle the exception if one is raised.\n",
    "\n",
    "Here's an example that demonstrates how to catch and handle an exception in Python using try and except:"
   ]
  },
  {
   "cell_type": "code",
   "execution_count": 10,
   "id": "35fbf6c5-c487-4871-9eb5-cc5f72ad1549",
   "metadata": {},
   "outputs": [
    {
     "name": "stdout",
     "output_type": "stream",
     "text": [
      "Error:  division by zero\n"
     ]
    }
   ],
   "source": [
    "try:\n",
    "    a = 10\n",
    "    b = 0\n",
    "    divison = a / b\n",
    "    print(\"Division: \",divison)\n",
    "except Exception as e:\n",
    "    \n",
    "    print(\"Error: \",e)"
   ]
  },
  {
   "cell_type": "markdown",
   "id": "6793a9c6-0213-40ef-98eb-19338f1e1330",
   "metadata": {},
   "source": [
    "Q4:- Explain with an example:\n",
    "\n",
    "a. try and else\n",
    "\n",
    "b. finally \n",
    "\n",
    "c. raise"
   ]
  },
  {
   "cell_type": "markdown",
   "id": "520c6053-6f93-4252-bafe-1d60f75dfad6",
   "metadata": {},
   "source": [
    "ans 4:- In Python, the try statement can be followed by an optional else block. The else block is executed only if the try block does not raise an exception. It is often used to specify code that should be executed regardless of whether an exception occurred or not. Here's an example:\n",
    "\n"
   ]
  },
  {
   "cell_type": "code",
   "execution_count": 16,
   "id": "c05a75c6-3e95-4bb0-ad65-7efccd95e248",
   "metadata": {},
   "outputs": [
    {
     "name": "stdout",
     "output_type": "stream",
     "text": [
      "This is the first line.\n",
      "This is  line.\n",
      "This is the third line.\n",
      "This is the first line.\n",
      "This is  line.\n",
      "This is the third line.\n",
      "This is the first line.\n",
      "This is  line.\n",
      "This is the third line.\n",
      "\n",
      "File closed successfully\n"
     ]
    }
   ],
   "source": [
    "# python Copy code try:\n",
    "\n",
    "try:\n",
    "    with open(\"example.txt\",'r') as f:\n",
    "        data= f.read()\n",
    "        print(data)\n",
    "except Exception as e:\n",
    "              print(\"error :\",e)\n",
    "              \n",
    "else:\n",
    "     f.close()\n",
    "     print(\"File closed successfully\")\n",
    "        "
   ]
  },
  {
   "cell_type": "markdown",
   "id": "aff48651-1f59-4638-a6f4-b2c2d1aa6cbb",
   "metadata": {},
   "source": [
    "b. finally:- In Python, the finally block can be used to specify code that should be executed regardless of whether an exception was raised or not. The finally block is always executed, even if an exception occurred and was caught by an except block. Here's an example:"
   ]
  },
  {
   "cell_type": "code",
   "execution_count": 18,
   "id": "45f6e984-b574-482b-823e-77f1055b4738",
   "metadata": {},
   "outputs": [
    {
     "name": "stdout",
     "output_type": "stream",
     "text": [
      "error : [Errno 2] No such file or directory: 'test.txt'\n",
      " This is under Finally block\n"
     ]
    }
   ],
   "source": [
    "try:\n",
    "    # try to open test.txt file which is not present in current directory\n",
    "    with open(\"test.txt\",'r') as f:\n",
    "        data= f.read()\n",
    "        print(data)\n",
    "except Exception as e:\n",
    "              print(\"error :\",e)\n",
    "              \n",
    "else:\n",
    "     f.close()\n",
    "     print(\"File closed successfully\")\n",
    "    \n",
    "finally:\n",
    "    print(\" This is under Finally block\")"
   ]
  },
  {
   "cell_type": "markdown",
   "id": "87d22cbe-0473-4e87-923f-9168bb106e74",
   "metadata": {},
   "source": [
    "C. raise:\n",
    "\n",
    "In Python, the raise statement can be used to raise an exception manually. It is often used to indicate that an error has occurred and to stop the execution of the program. Here's an example:"
   ]
  },
  {
   "cell_type": "code",
   "execution_count": 22,
   "id": "0afb579e-f374-4fd6-a37c-2a0e35419b01",
   "metadata": {},
   "outputs": [
    {
     "name": "stdout",
     "output_type": "stream",
     "text": [
      "Cannot divide by zero\n"
     ]
    }
   ],
   "source": [
    "def divide(a, b):\n",
    "    if b == 0:\n",
    "        raise ValueError(\"Cannot divide by zero\")\n",
    "    return a / b\n",
    "\n",
    "try:\n",
    "    result = divide(10, 0)\n",
    "except ValueError as e:\n",
    "    print(e)\n"
   ]
  },
  {
   "cell_type": "markdown",
   "id": "ca9aa056-b5e7-455f-bd31-fadd1007d672",
   "metadata": {},
   "source": [
    "In this example, the divide function takes two arguments a and b and attempts to divide a by b. However, if b is equal to zero, we raise a ValueError exception with the message \"Cannot divide by zero\".\n",
    "\n",
    "We then call the divide function with the arguments 10 and 0 inside a try-except block. Since b is equal to zero, the divide function raises a ValueError exception, which is caught by the except block. The exception object is stored in the variable e, and we print out the error message using print(e)."
   ]
  },
  {
   "cell_type": "markdown",
   "id": "5793ff8c-2bb9-46ad-9b2d-0da85bf816e6",
   "metadata": {},
   "source": [
    "Q5:- What are Custom Exceptions in python? Why do we need Custom Exceptions? Explain with an example\n"
   ]
  },
  {
   "cell_type": "markdown",
   "id": "e579a7e3-66b7-4051-a5ad-3cd60ef8bd78",
   "metadata": {},
   "source": [
    "Ans 5:-Custom exceptions in Python are user-defined exception classes that are created to handle specific types of errors or exceptional situations that may occur in a program. Custom exceptions extend the built-in Exception class or any of its subclasses and can be raised, caught, and handled just like any other exception.\n",
    "\n",
    "We need custom exceptions in Python to handle situations where the built-in exceptions are not sufficient to convey the error message or the exceptional situation accurately. Custom exceptions can provide more specific and meaningful error messages that can help in debugging and understanding the error."
   ]
  },
  {
   "cell_type": "code",
   "execution_count": 34,
   "id": "f6e0e941-b74e-4595-8eb2-044528c46d01",
   "metadata": {},
   "outputs": [
    {
     "name": "stdin",
     "output_type": "stream",
     "text": [
      " enter your percentage of 10th class :  120\n"
     ]
    },
    {
     "name": "stdout",
     "output_type": "stream",
     "text": [
      "please enter valid percentage\n"
     ]
    }
   ],
   "source": [
    "class checkinput(Exception):\n",
    "    def __init__(self, msg):\n",
    "        self.msg = msg\n",
    "    \n",
    "def input_as_int(user_input):\n",
    "    if user_input >1 and user_input<100:\n",
    "        raise checkinput(\"You have enter a valid percentage\")\n",
    "    else:\n",
    "        raise checkinput(\"please enter valid percentage\")\n",
    "\n",
    "try:\n",
    "    \n",
    "    user_input = int(input(\" enter your percentage of 10th class : \"))\n",
    "    \n",
    "    input_as_int(user_input)\n",
    "    \n",
    "except checkinput as e:\n",
    "    \n",
    "    print(e)\n",
    "    \n",
    "    "
   ]
  },
  {
   "cell_type": "markdown",
   "id": "aea82141-3c2c-4ba2-b431-2e64bcea429d",
   "metadata": {},
   "source": [
    "in the above program the percentage is to be in int and between 0 to 100, but by using exception handling the python will not genrate as any error as syntax and int input is valid above 100 also. So, their is provision of custom made eception made exception handing. That the program shows"
   ]
  },
  {
   "cell_type": "markdown",
   "id": "24cf8633-2d6d-45d5-8600-d6dc059bd768",
   "metadata": {},
   "source": [
    "Q6:- Create custom exception class. Use this class to handle an exception."
   ]
  },
  {
   "cell_type": "code",
   "execution_count": 38,
   "id": "3b0e62c3-8429-4021-8333-d35f80fbfca5",
   "metadata": {},
   "outputs": [
    {
     "name": "stdout",
     "output_type": "stream",
     "text": [
      "Cannot divide by zero\n"
     ]
    }
   ],
   "source": [
    "class CustomException(Exception):\n",
    "    def __init__(self, message):\n",
    "        self.message = message\n",
    "        super().__init__(self.message)\n",
    "\n",
    "def divide(a, b):\n",
    "    if b == 0:\n",
    "        raise CustomException(\"Cannot divide by zero\")\n",
    "    return a / b\n",
    "\n",
    "try:\n",
    "    result = divide(10, 0)\n",
    "except CustomException as e:\n",
    "    print(e.message)\n"
   ]
  },
  {
   "cell_type": "markdown",
   "id": "5ba283b4-963c-4d1c-bfd9-35278c09214d",
   "metadata": {},
   "source": [
    "<Center> End of Assignment"
   ]
  },
  {
   "cell_type": "code",
   "execution_count": null,
   "id": "efb655c7-f331-4fa6-a011-889a75faaa99",
   "metadata": {},
   "outputs": [],
   "source": []
  }
 ],
 "metadata": {
  "kernelspec": {
   "display_name": "Python 3 (ipykernel)",
   "language": "python",
   "name": "python3"
  },
  "language_info": {
   "codemirror_mode": {
    "name": "ipython",
    "version": 3
   },
   "file_extension": ".py",
   "mimetype": "text/x-python",
   "name": "python",
   "nbconvert_exporter": "python",
   "pygments_lexer": "ipython3",
   "version": "3.10.8"
  }
 },
 "nbformat": 4,
 "nbformat_minor": 5
}
